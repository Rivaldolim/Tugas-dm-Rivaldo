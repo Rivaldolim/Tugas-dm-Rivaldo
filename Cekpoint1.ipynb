{
  "nbformat": 4,
  "nbformat_minor": 0,
  "metadata": {
    "colab": {
      "provenance": [],
      "authorship_tag": "ABX9TyMmv3neep8AX4ZAjFKPRf8W",
      "include_colab_link": true
    },
    "kernelspec": {
      "name": "python3",
      "display_name": "Python 3"
    },
    "language_info": {
      "name": "python"
    }
  },
  "cells": [
    {
      "cell_type": "markdown",
      "metadata": {
        "id": "view-in-github",
        "colab_type": "text"
      },
      "source": [
        "<a href=\"https://colab.research.google.com/github/Rivaldolim/Tugas-dm-Rivaldo/blob/main/Cekpoint1.ipynb\" target=\"_parent\"><img src=\"https://colab.research.google.com/assets/colab-badge.svg\" alt=\"Open In Colab\"/></a>"
      ]
    },
    {
      "cell_type": "markdown",
      "source": [
        "#Analisis Pencetak Gol Teratas Berdasarkan Liga Menggunakan Supervised Learning"
      ],
      "metadata": {
        "id": "0nYv2v8uhCmf"
      }
    },
    {
      "cell_type": "markdown",
      "source": [
        "##Business Understanding"
      ],
      "metadata": {
        "id": "UPxevOuWhzUm"
      }
    },
    {
      "cell_type": "markdown",
      "source": [
        "###Tujuan Bisnis  \n",
        "Klub sepak bola dapat menggunakan analisis ini untuk membuat keputusan yang lebih baik di pasar transfer. Mereka dapat memprioritaskan pemain yang memiliki catatan gol terbaik di liga-liga utama, berdasarkan kebutuhan posisi dan gaya permainan tim mereka.\n",
        "\n",
        "###Menilai Situasi\n",
        "Klub sepak bola sering kali dihadapkan pada keputusan yang sulit di pasar transfer, terutama terkait dengan pengeluaran dana yang signifikan untuk pemain baru. Dengan menggunakan data pencetak gol teratas, klub dapat membuat keputusan yang lebih terinformasi untuk menginvestasikan sumber daya mereka dengan bijak.\n",
        "###Tujuan Data Mining\n",
        "Data mining dapat digunakan untuk melakukan segmentasi pemain berdasarkan profil kinerja mereka. Misalnya, pemain dapat dikelompokkan berdasarkan usia, posisi di lapangan, atau gaya permainan, dan kemudian pola kinerja mereka dapat dianalisis di dalam setiap segmen.\n",
        "###Rencana Proyek\n",
        "Rencana dari proyek ini adalah Menganalisis kinerja pencetak gol teratas untuk mendapatkan wawasan tentang tren dan faktor-faktor yang memengaruhi produktivitas mereka.\n"
      ],
      "metadata": {
        "id": "3MhScZs2h3o8"
      }
    }
  ]
}